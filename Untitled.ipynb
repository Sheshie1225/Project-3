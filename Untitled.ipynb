{
 "cells": [
  {
   "cell_type": "code",
   "execution_count": 15,
   "id": "513f2bf0-3d3c-4a3a-8e76-adaea0ff6669",
   "metadata": {},
   "outputs": [],
   "source": [
    "%matplotlib notebook\n",
    "%matplotlib inline\n",
    "import pandas as pd\n",
    "import os\n",
    "import csv\n",
    "import numpy as np\n",
    "import datetime as dt\n",
    "import matplotlib.pyplot as plt\n",
    "import plotly.express as px"
   ]
  },
  {
   "cell_type": "code",
   "execution_count": 16,
   "id": "fae82064-b26e-4911-b4b0-f1b0fe83645d",
   "metadata": {},
   "outputs": [],
   "source": [
    "#establishing path to the csv file\n",
    "csvpath = os.path.join(\"activities_df.csv\")\n",
    "\n",
    "#creating DataFrame of csv data\n",
    "activities_df = pd.read_csv(csvpath, sep = ',', on_bad_lines = 'skip', parse_dates=True, index_col='id', encoding='utf-8')"
   ]
  },
  {
   "cell_type": "code",
   "execution_count": 24,
   "id": "0f73c771-0099-4aed-a601-17d5ea468db0",
   "metadata": {},
   "outputs": [],
   "source": [
    "random_x= ('USA', 'SOUTH AFRICA', 'NEW ZEALAND', 'MEXICO', 'AUSTRALIA') \n",
    "random_y= (50,25,7,1,53)"
   ]
  },
  {
   "cell_type": "code",
   "execution_count": null,
   "id": "983efcde-6b03-40f5-a404-4c213d6e3e86",
   "metadata": {},
   "outputs": [],
   "source": []
  }
 ],
 "metadata": {
  "kernelspec": {
   "display_name": "Python 3 (ipykernel)",
   "language": "python",
   "name": "python3"
  },
  "language_info": {
   "codemirror_mode": {
    "name": "ipython",
    "version": 3
   },
   "file_extension": ".py",
   "mimetype": "text/x-python",
   "name": "python",
   "nbconvert_exporter": "python",
   "pygments_lexer": "ipython3",
   "version": "3.9.7"
  }
 },
 "nbformat": 4,
 "nbformat_minor": 5
}
